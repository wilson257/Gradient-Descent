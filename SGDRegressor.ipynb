{
 "cells": [
  {
   "cell_type": "code",
   "execution_count": 51,
   "id": "d05e9b0a",
   "metadata": {},
   "outputs": [],
   "source": [
    "from sklearn.datasets import load_diabetes\n",
    "from sklearn.model_selection import train_test_split\n",
    "import numpy as np"
   ]
  },
  {
   "cell_type": "code",
   "execution_count": 52,
   "id": "bc6fe79f",
   "metadata": {},
   "outputs": [],
   "source": [
    "X,y=load_diabetes(return_X_y=True)"
   ]
  },
  {
   "cell_type": "code",
   "execution_count": 53,
   "id": "a94e08d6",
   "metadata": {},
   "outputs": [],
   "source": [
    "Xtrain,Xtest,ytrain,ytest=train_test_split(X,y,random_state=2,test_size=0.2)"
   ]
  },
  {
   "cell_type": "code",
   "execution_count": 54,
   "id": "f6e50532",
   "metadata": {},
   "outputs": [],
   "source": [
    "class SGDRegressor:\n",
    "    \n",
    "    def __init__(self,learning_rate,epochs):\n",
    "        \n",
    "        self.epochs=epochs\n",
    "        self.lr=learning_rate\n",
    "        self.coef_=None\n",
    "        self.intercept_=None\n",
    "        \n",
    "        \n",
    "    def fit(self,Xtrain,ytrain):\n",
    "        \n",
    "        self.coef_=np.ones(Xtrain.shape[1])\n",
    "        self.intercept_=0\n",
    "        \n",
    "        for i in range(self.epochs):\n",
    "            \n",
    "            for j in range(Xtrain.shape[0]):\n",
    "                \n",
    "                idx= np.random.randint(0,Xtrain.shape[0])\n",
    "                yhat= np.dot(self.coef_ , Xtrain[idx]) + self.intercept_\n",
    "                slope_m= -2 * np.dot((ytrain[idx] - yhat),Xtrain[idx])\n",
    "                self.coef_= self.coef_- self.lr * slope_m\n",
    "                \n",
    "                slope_b= -2 * (ytrain[idx]- yhat)\n",
    "                self.intercept_= self.intercept_ - self.lr *slope_b\n",
    "                \n",
    "        print(self.coef_,self.intercept_)\n",
    "        \n",
    "        \n",
    "    def predict(self,Xtest):\n",
    "        \n",
    "        ypred=np.dot(Xtest,self.coef_) + self.intercept_\n",
    "        return ypred"
   ]
  },
  {
   "cell_type": "code",
   "execution_count": 55,
   "id": "747cb4b8",
   "metadata": {},
   "outputs": [],
   "source": [
    "sg=SGDRegressor(0.01,50)"
   ]
  },
  {
   "cell_type": "code",
   "execution_count": 56,
   "id": "5480bfe0",
   "metadata": {},
   "outputs": [
    {
     "name": "stdout",
     "output_type": "stream",
     "text": [
      "[  61.38126149  -69.79432842  351.32822853  254.89502287   21.87229333\n",
      "  -25.28381039 -173.1219749   131.52477698  323.83604512  135.62107979] 157.36526607305458\n"
     ]
    }
   ],
   "source": [
    "sg.fit(Xtrain,ytrain)"
   ]
  },
  {
   "cell_type": "code",
   "execution_count": 57,
   "id": "fca07d59",
   "metadata": {},
   "outputs": [],
   "source": [
    "ypred=sg.predict(Xtest)"
   ]
  },
  {
   "cell_type": "code",
   "execution_count": 58,
   "id": "dd132568",
   "metadata": {},
   "outputs": [
    {
     "data": {
      "text/plain": [
       "0.42782904619313333"
      ]
     },
     "execution_count": 58,
     "metadata": {},
     "output_type": "execute_result"
    }
   ],
   "source": [
    "from sklearn.metrics import r2_score\n",
    "r2_score(ytest,ypred)"
   ]
  },
  {
   "cell_type": "code",
   "execution_count": null,
   "id": "7dd0741b",
   "metadata": {},
   "outputs": [],
   "source": []
  }
 ],
 "metadata": {
  "kernelspec": {
   "display_name": "Python 3 (ipykernel)",
   "language": "python",
   "name": "python3"
  },
  "language_info": {
   "codemirror_mode": {
    "name": "ipython",
    "version": 3
   },
   "file_extension": ".py",
   "mimetype": "text/x-python",
   "name": "python",
   "nbconvert_exporter": "python",
   "pygments_lexer": "ipython3",
   "version": "3.11.3"
  }
 },
 "nbformat": 4,
 "nbformat_minor": 5
}
