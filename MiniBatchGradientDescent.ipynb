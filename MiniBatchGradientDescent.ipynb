{
 "cells": [
  {
   "cell_type": "code",
   "execution_count": 63,
   "id": "653d7e47",
   "metadata": {},
   "outputs": [],
   "source": [
    "from sklearn.datasets import load_diabetes\n",
    "from sklearn.model_selection import train_test_split\n",
    "import random\n",
    "import numpy as np"
   ]
  },
  {
   "cell_type": "code",
   "execution_count": 64,
   "id": "f32a4ae1",
   "metadata": {},
   "outputs": [],
   "source": [
    "X,y=load_diabetes(return_X_y=True)"
   ]
  },
  {
   "cell_type": "code",
   "execution_count": 65,
   "id": "aa5c5e58",
   "metadata": {},
   "outputs": [],
   "source": [
    "Xtrain,Xtest,ytrain,ytest=train_test_split(X,y,test_size=0.2,random_state=2)"
   ]
  },
  {
   "cell_type": "code",
   "execution_count": 71,
   "id": "bc924459",
   "metadata": {},
   "outputs": [],
   "source": [
    "class MBGDRegressor:\n",
    "    \n",
    "    def __init__(self,learning_rate,epochs,batch_size):\n",
    "        \n",
    "        self.lr=learning_rate\n",
    "        self.epochs=epochs\n",
    "        self.batch_size=batch_size\n",
    "        self.coef_ = None\n",
    "        self.intercept_ = None\n",
    "        \n",
    "    def fit(self,Xtrain,ytrain):  \n",
    "        \n",
    "        self.coef_=np.ones(Xtrain.shape[1])\n",
    "        self.intercept_=0\n",
    "        \n",
    "        for i in range(self.epochs):\n",
    "            \n",
    "            for j in range(int(Xtrain.shape[0]/self.batch_size)):\n",
    "                \n",
    "                idx=random.sample(range(Xtrain.shape[0]),self.batch_size)\n",
    "                yhat= np.dot(Xtrain[idx],self.coef_) + self.intercept_\n",
    "                \n",
    "                slope_m= -2 * np.dot((ytrain[idx]-yhat),Xtrain[idx])\n",
    "                self.coef_= self.coef_- (self.lr * slope_m)\n",
    "                \n",
    "                slope_b=-2 * np.mean(ytrain[idx]-yhat)\n",
    "                self.intercept_=self.intercept_- (self.lr * slope_b)\n",
    "        \n",
    "        print(self.intercept_,self.coef_)\n",
    "    \n",
    "    def predict(self,xtest):\n",
    "        return np.dot(Xtest,self.coef_) + self.intercept_"
   ]
  },
  {
   "cell_type": "code",
   "execution_count": 92,
   "id": "bb368ed0",
   "metadata": {},
   "outputs": [],
   "source": [
    "mbr=MBGDRegressor(learning_rate=0.01,epochs=100,batch_size=35)"
   ]
  },
  {
   "cell_type": "code",
   "execution_count": 93,
   "id": "1422c9b3",
   "metadata": {},
   "outputs": [
    {
     "name": "stdout",
     "output_type": "stream",
     "text": [
      "153.1657015297851 [  23.70321601 -144.55176675  455.97403319  305.25167237  -31.21911891\n",
      " -103.09585351 -193.00560126  107.11687225  415.66053046  105.49310468]\n"
     ]
    }
   ],
   "source": [
    "mbr.fit(Xtrain,ytrain)"
   ]
  },
  {
   "cell_type": "code",
   "execution_count": 94,
   "id": "abd48db1",
   "metadata": {},
   "outputs": [],
   "source": [
    "ypred=mbr.predict(Xtest)"
   ]
  },
  {
   "cell_type": "code",
   "execution_count": 95,
   "id": "cbe112b0",
   "metadata": {},
   "outputs": [
    {
     "data": {
      "text/plain": [
       "0.45414622182012077"
      ]
     },
     "execution_count": 95,
     "metadata": {},
     "output_type": "execute_result"
    }
   ],
   "source": [
    "from sklearn.metrics import r2_score\n",
    "r2_score(ytest,ypred)"
   ]
  },
  {
   "cell_type": "code",
   "execution_count": null,
   "id": "9b970e85",
   "metadata": {},
   "outputs": [],
   "source": []
  }
 ],
 "metadata": {
  "kernelspec": {
   "display_name": "Python 3 (ipykernel)",
   "language": "python",
   "name": "python3"
  },
  "language_info": {
   "codemirror_mode": {
    "name": "ipython",
    "version": 3
   },
   "file_extension": ".py",
   "mimetype": "text/x-python",
   "name": "python",
   "nbconvert_exporter": "python",
   "pygments_lexer": "ipython3",
   "version": "3.11.3"
  }
 },
 "nbformat": 4,
 "nbformat_minor": 5
}
