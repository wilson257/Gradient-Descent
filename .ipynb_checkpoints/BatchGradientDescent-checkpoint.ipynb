{
 "cells": [
  {
   "cell_type": "markdown",
   "id": "1af2a070",
   "metadata": {},
   "source": [
    "# Gradient Descent code for multiple features"
   ]
  },
  {
   "cell_type": "code",
   "execution_count": 1,
   "id": "ceb6bade",
   "metadata": {},
   "outputs": [],
   "source": [
    "from sklearn.datasets import load_diabetes\n",
    "import numpy as np"
   ]
  },
  {
   "cell_type": "code",
   "execution_count": 2,
   "id": "f837fd31",
   "metadata": {},
   "outputs": [
    {
     "data": {
      "text/plain": [
       "(442, 10)"
      ]
     },
     "execution_count": 2,
     "metadata": {},
     "output_type": "execute_result"
    }
   ],
   "source": [
    "X,y=load_diabetes(return_X_y=True)\n",
    "X.shape"
   ]
  },
  {
   "cell_type": "code",
   "execution_count": 3,
   "id": "f4235493",
   "metadata": {},
   "outputs": [],
   "source": [
    "from sklearn.model_selection import train_test_split"
   ]
  },
  {
   "cell_type": "code",
   "execution_count": 9,
   "id": "6e3a2470",
   "metadata": {},
   "outputs": [],
   "source": [
    "Xtrain,Xtest,ytrain,ytest=train_test_split(X,y,test_size=0.2,random_state=2)"
   ]
  },
  {
   "cell_type": "code",
   "execution_count": 20,
   "id": "ac205094",
   "metadata": {},
   "outputs": [],
   "source": [
    "class BatchGdRegressor:\n",
    "    \n",
    "    def __init__(self,learning_rate,epochs):\n",
    "        self.lr=learning_rate\n",
    "        self.epochs=epochs\n",
    "        self.coef_=None\n",
    "        self.intercept_=None\n",
    "        \n",
    "    def fit(self,Xtrain,ytrain):\n",
    "        self.intercept_=0\n",
    "        self.coef_=np.ones(Xtrain.shape[1])\n",
    "        \n",
    "        for i in range(self.epochs):\n",
    "        \n",
    "            yhat= np.dot(Xtrain,self.coef_) + self.intercept_\n",
    "            \n",
    "            slope_m= -2 * np.mean(ytrain-yhat)\n",
    "            self.intercept_= self.intercept_ - (self.lr * slope_m)\n",
    "            \n",
    "            slope_b= -2 * np.dot((ytrain-yhat),Xtrain)/Xtrain.shape[0]\n",
    "            self.coef_= self.coef_ - (self.lr * slope_b)\n",
    "        \n",
    "        print(self.intercept_,self.coef_)\n",
    "        \n",
    "    def predict(self,Xtest):\n",
    "        return np.dot(Xtest,self.coef_) + self.intercept_"
   ]
  },
  {
   "cell_type": "code",
   "execution_count": 21,
   "id": "c3d07b21",
   "metadata": {},
   "outputs": [],
   "source": [
    "gd=BatchGdRegressor(0.5,1000)"
   ]
  },
  {
   "cell_type": "code",
   "execution_count": 22,
   "id": "81b7e199",
   "metadata": {},
   "outputs": [
    {
     "name": "stdout",
     "output_type": "stream",
     "text": [
      "152.01351687661833 [  14.38990585 -173.7235727   491.54898524  323.91524824  -39.32648042\n",
      " -116.01061213 -194.04077415  103.38135565  451.63448787   97.57218278]\n"
     ]
    }
   ],
   "source": [
    "gd.fit(Xtrain,ytrain)"
   ]
  },
  {
   "cell_type": "code",
   "execution_count": 16,
   "id": "1c5b742f",
   "metadata": {},
   "outputs": [],
   "source": [
    "ypred=gd.predict(Xtest)"
   ]
  },
  {
   "cell_type": "code",
   "execution_count": null,
   "id": "bbaff1b0",
   "metadata": {},
   "outputs": [],
   "source": []
  }
 ],
 "metadata": {
  "kernelspec": {
   "display_name": "Python 3 (ipykernel)",
   "language": "python",
   "name": "python3"
  },
  "language_info": {
   "codemirror_mode": {
    "name": "ipython",
    "version": 3
   },
   "file_extension": ".py",
   "mimetype": "text/x-python",
   "name": "python",
   "nbconvert_exporter": "python",
   "pygments_lexer": "ipython3",
   "version": "3.11.3"
  }
 },
 "nbformat": 4,
 "nbformat_minor": 5
}
